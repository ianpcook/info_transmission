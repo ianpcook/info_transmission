{
 "cells": [
  {
   "cell_type": "code",
   "execution_count": 48,
   "metadata": {
    "collapsed": false
   },
   "outputs": [],
   "source": [
    "import pandas as pd\n",
    "import numpy as np\n",
    "from scipy import stats\n",
    "import matplotlib.pyplot as plt\n",
    "import statsmodels.formula.api as sm\n",
    "import statsmodels.api as sma\n",
    "from statsmodels.iolib.summary2 import summary_col"
   ]
  },
  {
   "cell_type": "code",
   "execution_count": 12,
   "metadata": {
    "collapsed": true
   },
   "outputs": [],
   "source": [
    "# bring in the speaker specificities\n",
    "def mergeSpeakerSpecs(df):\n",
    "    specs = pd.read_csv('./data/hearings_with_specifs.csv', header=0, usecols=['speakerSpec', 'congress', 'speaker', 'filename'])\n",
    "    specs['speaker'] = [x.lower() for x in specs['speaker'].astype(str)]\n",
    "    specs['filename'] = specs['filename'].map(lambda x: x.rstrip('.txt'))\n",
    "    df  = pd.merge(df, specs, on=['filename', 'speaker'], how='inner')\n",
    "    # get rid of one congress col and fix the remaining congress col\n",
    "    del df['congress_y']\n",
    "    df.rename(columns={'congress_x' : 'congress'}, inplace=True)\n",
    "    return df"
   ]
  },
  {
   "cell_type": "code",
   "execution_count": 24,
   "metadata": {
    "collapsed": true
   },
   "outputs": [],
   "source": [
    "# Generate a score by comparing hearings only within a single congress\n",
    "def withinCongressZscore(df):\n",
    "    df_z = []\n",
    "    for i in df['congress'].unique():\n",
    "        group = df[(df['congress']==i)]\n",
    "        group['wc_zscore'] = (group['speakerSpec'] - group['speakerSpec'].mean())/group['speakerSpec'].std(ddof=0)\n",
    "        df_z = df_z + list(group['wc_zscore'])\n",
    "    df['wc_specZ'] = df_z\n",
    "    return df"
   ]
  },
  {
   "cell_type": "code",
   "execution_count": 25,
   "metadata": {
    "collapsed": true
   },
   "outputs": [],
   "source": [
    "# Generate a variable measuring the strength of the majority party\n",
    "def genMajStrength(hd):\n",
    "    for i in range(len(hd)):\n",
    "        if hd.loc[i, 'chamber'] == 0:\n",
    "            hd.loc[i, 'majStrength'] = np.absolute(hd.loc[i, 'hdems'] - hd.loc[i, 'hreps'])\n",
    "        elif hd.loc[i, 'chamber'] == 1:\n",
    "            hd.loc[i, 'majStrength'] = np.absolute(hd.loc[i, 'sdems'] - hd.loc[i, 'hreps'])\n",
    "        else:\n",
    "            hd.loc[i, 'majStrength'] == 0\n",
    "        print i\n",
    "    return hd"
   ]
  },
  {
   "cell_type": "code",
   "execution_count": 26,
   "metadata": {
    "collapsed": false,
    "scrolled": true
   },
   "outputs": [
    {
     "name": "stderr",
     "output_type": "stream",
     "text": [
      "/Library/Python/2.7/site-packages/ipykernel/__main__.py:6: SettingWithCopyWarning: \n",
      "A value is trying to be set on a copy of a slice from a DataFrame.\n",
      "Try using .loc[row_indexer,col_indexer] = value instead\n",
      "\n",
      "See the caveats in the documentation: http://pandas.pydata.org/pandas-docs/stable/indexing.html#indexing-view-versus-copy\n"
     ]
    }
   ],
   "source": [
    "# bring in the working datafame (hearing data --> \"hd\")\n",
    "hd = pd.read_csv('./data/working_df.csv', header=0)\n",
    "# create the measure of ideological distance between the chair and the speaker\n",
    "# Note: the \"ag_ideal\" is the agency ideal point as a measure of the speaker's ideal point\n",
    "hd['ideoDiff'] = np.absolute(hd['ag_ideal'] - hd['dw1'])\n",
    "# zscore across the entire sample (between congress -- \"bc\")\n",
    "hd['bc_specZ'] = stats.zscore(hd['speakerSpec'])\n",
    "# create a divided gov variable (chair of different party than president)\n",
    "# expectation: specificity should go up under div gov because of the ally principle\n",
    "hd['divgov'] = np.absolute(hd['party_x']/100 - hd['pres_party'])\n",
    "hd.rename(columns={'committee seniority': 'seniority'}, inplace=True)\n",
    "hd['wc_specZ'] = withinCongressZscore(hd)\n",
    "\n",
    "# final trim of the dataset to get rid of remaining columns that do not contribute\n",
    "hd = hd.loc[:,hd.count() > 0]"
   ]
  },
  {
   "cell_type": "code",
   "execution_count": 49,
   "metadata": {
    "collapsed": false
   },
   "outputs": [
    {
     "name": "stderr",
     "output_type": "stream",
     "text": [
      "/Library/Python/2.7/site-packages/ipykernel/__main__.py:6: SettingWithCopyWarning: \n",
      "A value is trying to be set on a copy of a slice from a DataFrame.\n",
      "Try using .loc[row_indexer,col_indexer] = value instead\n",
      "\n",
      "See the caveats in the documentation: http://pandas.pydata.org/pandas-docs/stable/indexing.html#indexing-view-versus-copy\n"
     ]
    }
   ],
   "source": [
    "hd['wc_specZ'] = withinCongressZscore(hd)"
   ]
  },
  {
   "cell_type": "code",
   "execution_count": 51,
   "metadata": {
    "collapsed": true
   },
   "outputs": [],
   "source": [
    "plt.figure();\n",
    "hd['congress'].plot(kind='hist')\n",
    "plt.show()"
   ]
  },
  {
   "cell_type": "code",
   "execution_count": 53,
   "metadata": {
    "collapsed": false
   },
   "outputs": [
    {
     "data": {
      "text/plain": [
       "numpy.int64"
      ]
     },
     "execution_count": 53,
     "metadata": {},
     "output_type": "execute_result"
    }
   ],
   "source": [
    "type(hd['congress'][1])"
   ]
  },
  {
   "cell_type": "code",
   "execution_count": null,
   "metadata": {
    "collapsed": true
   },
   "outputs": [],
   "source": []
  }
 ],
 "metadata": {
  "kernelspec": {
   "display_name": "Python 2",
   "language": "python",
   "name": "python2"
  },
  "language_info": {
   "codemirror_mode": {
    "name": "ipython",
    "version": 2
   },
   "file_extension": ".py",
   "mimetype": "text/x-python",
   "name": "python",
   "nbconvert_exporter": "python",
   "pygments_lexer": "ipython2",
   "version": "2.7.10"
  }
 },
 "nbformat": 4,
 "nbformat_minor": 0
}
